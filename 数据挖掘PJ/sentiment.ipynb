{
 "cells": [
  {
   "cell_type": "code",
   "execution_count": 1,
   "metadata": {
    "collapsed": false
   },
   "outputs": [],
   "source": [
    "import pandas as pd\n",
    "import numpy as np\n",
    "import jieba\n",
    "import re\n",
    "import warnings\n",
    "from sklearn import preprocessing\n",
    "from sklearn import metrics\n",
    "warnings.filterwarnings('ignore')"
   ]
  },
  {
   "cell_type": "markdown",
   "metadata": {},
   "source": [
    "# 1. 数据预处理"
   ]
  },
  {
   "cell_type": "markdown",
   "metadata": {},
   "source": [
    "## 1.1 文本预处理"
   ]
  },
  {
   "cell_type": "code",
   "execution_count": 2,
   "metadata": {
    "collapsed": false
   },
   "outputs": [],
   "source": [
    "# 读取停用词\n",
    "stop_words = []\n",
    "with open('stop_words.txt', 'r', encoding='gbk') as f:\n",
    "    for line in f.readlines():\n",
    "        stop_words.append(line.replace('\\n', ''))\n",
    "stop_words.append('↓')\n",
    "# 除去英文词和特殊字符\n",
    "special_words = \"[a-zA-Z0-9\\s+\\.\\!\\/_,$%^*(+\\\"\\']+|[+——！，。？、：；;《》“”~@#￥%……&*（）]+\""
   ]
  },
  {
   "cell_type": "code",
   "execution_count": 3,
   "metadata": {
    "collapsed": false
   },
   "outputs": [],
   "source": [
    "# 读取爬取数据\n",
    "columns = ['topicId','title','content']\n",
    "article_data = pd.read_csv('./article/articles.csv', names=columns, encoding='utf-8')\n",
    "# 过滤掉字数小于200的文章，一般字数特别少的文章分析情感意义不是很大(情感方向不明确)\n",
    "article_data = article_data[article_data['content'].apply(lambda x : len(x) >= 200)]\n",
    "article_data = article_data.loc[0:100]"
   ]
  },
  {
   "cell_type": "code",
   "execution_count": 4,
   "metadata": {
    "collapsed": false
   },
   "outputs": [
    {
     "data": {
      "text/html": [
       "<div>\n",
       "<table border=\"1\" class=\"dataframe\">\n",
       "  <thead>\n",
       "    <tr style=\"text-align: right;\">\n",
       "      <th></th>\n",
       "      <th>topicId</th>\n",
       "      <th>title</th>\n",
       "      <th>content</th>\n",
       "    </tr>\n",
       "  </thead>\n",
       "  <tbody>\n",
       "    <tr>\n",
       "      <th>0</th>\n",
       "      <td>19550429</td>\n",
       "      <td>\"想要充实自己，有哪 10 本书或者 10 部电影值得推荐？\"</td>\n",
       "      <td>\"85K收藏，赞同才36K，你们这。。。。。。。。-声明，如果有微博或者公众号发表了我的这篇...</td>\n",
       "    </tr>\n",
       "    <tr>\n",
       "      <th>1</th>\n",
       "      <td>19550429</td>\n",
       "      <td>\"印象中什么时候你对中国电影、电视剧最失望？\"</td>\n",
       "      <td>\"当我得知王莎莎没通过北电，并且无戏可拍时。王莎莎就是小兵张嘎里的英子武林外传里的莫小贝后来...</td>\n",
       "    </tr>\n",
       "    <tr>\n",
       "      <th>2</th>\n",
       "      <td>19550429</td>\n",
       "      <td>\"有哪些好看的高智商悬疑电影？\"</td>\n",
       "      <td>\"所谓高智商悬疑电影，可分为两部分来解析:悬疑电影悬疑电影，即是悬疑片，以完整故事为内核，设...</td>\n",
       "    </tr>\n",
       "    <tr>\n",
       "      <th>3</th>\n",
       "      <td>19550429</td>\n",
       "      <td>\"谁是 2016 年的演技最差的男星？\"</td>\n",
       "      <td>\"首先，李易峰，你们黑不起。想当年，听说李易峰得了百花奖，我强烈的感觉到中国电影药丸，，，不...</td>\n",
       "    </tr>\n",
       "    <tr>\n",
       "      <th>4</th>\n",
       "      <td>19550429</td>\n",
       "      <td>\"《不能说的秘密》是部好电影吗？\"</td>\n",
       "      <td>\"怒答！看了前排几个，感觉很不过瘾。大都没说到点子上。这么一部牛X的电影，能是几句话就概括的...</td>\n",
       "    </tr>\n",
       "  </tbody>\n",
       "</table>\n",
       "</div>"
      ],
      "text/plain": [
       "    topicId                            title  \\\n",
       "0  19550429  \"想要充实自己，有哪 10 本书或者 10 部电影值得推荐？\"   \n",
       "1  19550429          \"印象中什么时候你对中国电影、电视剧最失望？\"   \n",
       "2  19550429                 \"有哪些好看的高智商悬疑电影？\"   \n",
       "3  19550429             \"谁是 2016 年的演技最差的男星？\"   \n",
       "4  19550429                \"《不能说的秘密》是部好电影吗？\"   \n",
       "\n",
       "                                             content  \n",
       "0  \"85K收藏，赞同才36K，你们这。。。。。。。。-声明，如果有微博或者公众号发表了我的这篇...  \n",
       "1  \"当我得知王莎莎没通过北电，并且无戏可拍时。王莎莎就是小兵张嘎里的英子武林外传里的莫小贝后来...  \n",
       "2  \"所谓高智商悬疑电影，可分为两部分来解析:悬疑电影悬疑电影，即是悬疑片，以完整故事为内核，设...  \n",
       "3  \"首先，李易峰，你们黑不起。想当年，听说李易峰得了百花奖，我强烈的感觉到中国电影药丸，，，不...  \n",
       "4  \"怒答！看了前排几个，感觉很不过瘾。大都没说到点子上。这么一部牛X的电影，能是几句话就概括的...  "
      ]
     },
     "execution_count": 4,
     "metadata": {},
     "output_type": "execute_result"
    }
   ],
   "source": [
    "article_data.head()"
   ]
  },
  {
   "cell_type": "code",
   "execution_count": 5,
   "metadata": {
    "collapsed": true
   },
   "outputs": [],
   "source": [
    "content_data = article_data.content.values"
   ]
  },
  {
   "cell_type": "code",
   "execution_count": 6,
   "metadata": {
    "collapsed": false
   },
   "outputs": [
    {
     "data": {
      "text/plain": [
       "(90, 90)"
      ]
     },
     "execution_count": 6,
     "metadata": {},
     "output_type": "execute_result"
    }
   ],
   "source": [
    "len(content_data), len(article_data)"
   ]
  },
  {
   "cell_type": "code",
   "execution_count": 7,
   "metadata": {
    "collapsed": true
   },
   "outputs": [],
   "source": [
    "# 除去文本中的停用词、数字和特殊字符 \n",
    "def get_rid_of_words(content):\n",
    "    words = []\n",
    "    content = re.sub(special_words, '', content)\n",
    "    words_list = jieba.cut(content, cut_all=False)\n",
    "    for word in words_list:\n",
    "        if word in stop_words:\n",
    "            pass\n",
    "        else:\n",
    "            words.append(word)\n",
    "            \n",
    "    return words\n",
    "\n",
    "# 分词，除去停用、数据。特殊字符\n",
    "# text = []\n",
    "# for content in content_data:\n",
    "#     text.append(get_rid_of_words(content))"
   ]
  },
  {
   "cell_type": "markdown",
   "metadata": {},
   "source": [
    "## 1.2 读入标注数据"
   ]
  },
  {
   "cell_type": "code",
   "execution_count": 8,
   "metadata": {
    "collapsed": false
   },
   "outputs": [
    {
     "data": {
      "text/html": [
       "<div>\n",
       "<table border=\"1\" class=\"dataframe\">\n",
       "  <thead>\n",
       "    <tr style=\"text-align: right;\">\n",
       "      <th></th>\n",
       "      <th>Unnamed: 0</th>\n",
       "      <th>title</th>\n",
       "      <th>Unnamed: 2</th>\n",
       "      <th>Unnamed: 3</th>\n",
       "      <th>Unnamed: 4</th>\n",
       "      <th>Unnamed: 5</th>\n",
       "      <th>Unnamed: 6</th>\n",
       "      <th>target</th>\n",
       "    </tr>\n",
       "  </thead>\n",
       "  <tbody>\n",
       "    <tr>\n",
       "      <th>0</th>\n",
       "      <td>0</td>\n",
       "      <td>\"想要充实自己，有哪 10 本书或者 10 部电影值得推荐？\"</td>\n",
       "      <td>NaN</td>\n",
       "      <td>NaN</td>\n",
       "      <td>NaN</td>\n",
       "      <td>NaN</td>\n",
       "      <td>NaN</td>\n",
       "      <td>0.0</td>\n",
       "    </tr>\n",
       "    <tr>\n",
       "      <th>1</th>\n",
       "      <td>1</td>\n",
       "      <td>\"印象中什么时候你对中国电影、电视剧最失望？\"</td>\n",
       "      <td>NaN</td>\n",
       "      <td>NaN</td>\n",
       "      <td>NaN</td>\n",
       "      <td>NaN</td>\n",
       "      <td>NaN</td>\n",
       "      <td>-1.0</td>\n",
       "    </tr>\n",
       "    <tr>\n",
       "      <th>2</th>\n",
       "      <td>2</td>\n",
       "      <td>\"有哪些好看的高智商悬疑电影？\"</td>\n",
       "      <td>NaN</td>\n",
       "      <td>NaN</td>\n",
       "      <td>NaN</td>\n",
       "      <td>NaN</td>\n",
       "      <td>NaN</td>\n",
       "      <td>1.0</td>\n",
       "    </tr>\n",
       "    <tr>\n",
       "      <th>3</th>\n",
       "      <td>3</td>\n",
       "      <td>\"谁是 2016 年的演技最差的男星？\"</td>\n",
       "      <td>NaN</td>\n",
       "      <td>NaN</td>\n",
       "      <td>NaN</td>\n",
       "      <td>NaN</td>\n",
       "      <td>NaN</td>\n",
       "      <td>-1.0</td>\n",
       "    </tr>\n",
       "    <tr>\n",
       "      <th>4</th>\n",
       "      <td>4</td>\n",
       "      <td>\"《不能说的秘密》是部好电影吗？\"</td>\n",
       "      <td>NaN</td>\n",
       "      <td>NaN</td>\n",
       "      <td>NaN</td>\n",
       "      <td>NaN</td>\n",
       "      <td>NaN</td>\n",
       "      <td>1.0</td>\n",
       "    </tr>\n",
       "  </tbody>\n",
       "</table>\n",
       "</div>"
      ],
      "text/plain": [
       "   Unnamed: 0                            title  Unnamed: 2  Unnamed: 3  \\\n",
       "0           0  \"想要充实自己，有哪 10 本书或者 10 部电影值得推荐？\"         NaN         NaN   \n",
       "1           1          \"印象中什么时候你对中国电影、电视剧最失望？\"         NaN         NaN   \n",
       "2           2                 \"有哪些好看的高智商悬疑电影？\"         NaN         NaN   \n",
       "3           3             \"谁是 2016 年的演技最差的男星？\"         NaN         NaN   \n",
       "4           4                \"《不能说的秘密》是部好电影吗？\"         NaN         NaN   \n",
       "\n",
       "   Unnamed: 4  Unnamed: 5  Unnamed: 6  target  \n",
       "0         NaN         NaN         NaN     0.0  \n",
       "1         NaN         NaN         NaN    -1.0  \n",
       "2         NaN         NaN         NaN     1.0  \n",
       "3         NaN         NaN         NaN    -1.0  \n",
       "4         NaN         NaN         NaN     1.0  "
      ]
     },
     "execution_count": 8,
     "metadata": {},
     "output_type": "execute_result"
    }
   ],
   "source": [
    "# 读入人工标注数据\n",
    "columns = ['title', 'target']\n",
    "# target = pd.read_csv('./article/target.csv', encoding='gbk', index_col=False, dtype={'target' : int})\n",
    "target = pd.read_csv('./article/target.csv', encoding='gbk', index_col=False)\n",
    "target.head()"
   ]
  },
  {
   "cell_type": "code",
   "execution_count": 9,
   "metadata": {
    "collapsed": false
   },
   "outputs": [],
   "source": [
    "target.drop(['Unnamed: 0', 'Unnamed: 2', 'Unnamed: 3', 'Unnamed: 4', 'Unnamed: 5', 'Unnamed: 6'], axis=1, inplace=True)\n",
    "target = target[0:90]\n",
    "# 更正数据类型，并且0代表消极，1代表中性， 2代表积极\n",
    "target['target'] = target['target'].astype(int).values\n",
    "target['target'] = target['target'] + 1"
   ]
  },
  {
   "cell_type": "code",
   "execution_count": 10,
   "metadata": {
    "collapsed": false
   },
   "outputs": [
    {
     "data": {
      "text/html": [
       "<div>\n",
       "<table border=\"1\" class=\"dataframe\">\n",
       "  <thead>\n",
       "    <tr style=\"text-align: right;\">\n",
       "      <th></th>\n",
       "      <th>title</th>\n",
       "      <th>target</th>\n",
       "    </tr>\n",
       "  </thead>\n",
       "  <tbody>\n",
       "    <tr>\n",
       "      <th>0</th>\n",
       "      <td>\"想要充实自己，有哪 10 本书或者 10 部电影值得推荐？\"</td>\n",
       "      <td>1</td>\n",
       "    </tr>\n",
       "    <tr>\n",
       "      <th>1</th>\n",
       "      <td>\"印象中什么时候你对中国电影、电视剧最失望？\"</td>\n",
       "      <td>0</td>\n",
       "    </tr>\n",
       "    <tr>\n",
       "      <th>2</th>\n",
       "      <td>\"有哪些好看的高智商悬疑电影？\"</td>\n",
       "      <td>2</td>\n",
       "    </tr>\n",
       "    <tr>\n",
       "      <th>3</th>\n",
       "      <td>\"谁是 2016 年的演技最差的男星？\"</td>\n",
       "      <td>0</td>\n",
       "    </tr>\n",
       "    <tr>\n",
       "      <th>4</th>\n",
       "      <td>\"《不能说的秘密》是部好电影吗？\"</td>\n",
       "      <td>2</td>\n",
       "    </tr>\n",
       "  </tbody>\n",
       "</table>\n",
       "</div>"
      ],
      "text/plain": [
       "                             title  target\n",
       "0  \"想要充实自己，有哪 10 本书或者 10 部电影值得推荐？\"       1\n",
       "1          \"印象中什么时候你对中国电影、电视剧最失望？\"       0\n",
       "2                 \"有哪些好看的高智商悬疑电影？\"       2\n",
       "3             \"谁是 2016 年的演技最差的男星？\"       0\n",
       "4                \"《不能说的秘密》是部好电影吗？\"       2"
      ]
     },
     "execution_count": 10,
     "metadata": {},
     "output_type": "execute_result"
    }
   ],
   "source": [
    "target.head()"
   ]
  },
  {
   "cell_type": "code",
   "execution_count": 11,
   "metadata": {
    "collapsed": false
   },
   "outputs": [
    {
     "data": {
      "text/plain": [
       "array([ True,  True,  True,  True,  True,  True,  True,  True,  True,\n",
       "        True,  True,  True,  True,  True,  True,  True,  True,  True,\n",
       "        True,  True,  True,  True,  True,  True,  True,  True,  True,\n",
       "        True,  True,  True,  True,  True,  True,  True,  True,  True,\n",
       "        True,  True,  True,  True,  True,  True,  True,  True,  True,\n",
       "        True,  True,  True,  True,  True,  True,  True,  True,  True,\n",
       "        True,  True,  True,  True,  True,  True,  True,  True,  True,\n",
       "        True,  True,  True,  True,  True,  True,  True,  True,  True,\n",
       "        True,  True,  True,  True,  True,  True,  True,  True,  True,\n",
       "        True,  True,  True,  True,  True,  True,  True,  True,  True])"
      ]
     },
     "execution_count": 11,
     "metadata": {},
     "output_type": "execute_result"
    }
   ],
   "source": [
    "# 验证一下标题是否对齐\n",
    "(target.title.values == article_data.loc[0:100].title.values)"
   ]
  },
  {
   "cell_type": "markdown",
   "metadata": {},
   "source": [
    "# 2. 朴素贝叶斯"
   ]
  },
  {
   "cell_type": "code",
   "execution_count": 12,
   "metadata": {
    "collapsed": true
   },
   "outputs": [],
   "source": [
    "# 训练分类器\n",
    "def Train_NB(article_data, target):\n",
    "    # 存放训练集的词汇表\n",
    "    V = set()\n",
    "    # 存放先验概率\n",
    "    label_prob = np.zeros((3,))\n",
    "    # 存放不同类别下的总的词数\n",
    "    article_words_occurance = np.zeros((3,))\n",
    "    # 下面这个列表存放消极，中性，积极类别下的词频，里面存储的是这三个类别的字典\n",
    "    sentiment_dict = []\n",
    "    for label in range(0, 3):\n",
    "        label_dict = {}\n",
    "        \n",
    "        # 索引出里面类别为label的文章\n",
    "        articles = article_data[(target['target'] == label).values]\n",
    "        \n",
    "        # 计算先验概率\n",
    "        label_prob[label] = np.log(len(articles) / len(article_data))\n",
    "        \n",
    "        # 分词，除去停用、数据。特殊字符\n",
    "        contents = articles.content.values\n",
    "        for content in contents:\n",
    "            words = get_rid_of_words(content)\n",
    "            article_words_occurance[label] += len(words)\n",
    "            for word in words:\n",
    "                V.add(word)\n",
    "                try:\n",
    "                    label_dict[word] += 1\n",
    "                except:\n",
    "                    label_dict[word] = 1\n",
    "        \n",
    "        sentiment_dict.append(label_dict)\n",
    "\n",
    "    # 存放词的似然概率，一样里面由3个字典构成\n",
    "    words_pro_dict = []\n",
    "    # 计算似然项\n",
    "    for label in range(0, 3):\n",
    "        words_pro = {}\n",
    "        for word in V:\n",
    "            try:\n",
    "                words_pro[word] = np.log((sentiment_dict[label][word]+1) / (article_words_occurance[label]+len(sentiment_dict[label]))) \n",
    "            except:\n",
    "                words_pro[word] = np.log(1 / (article_words_occurance[label]+len(sentiment_dict[label])))\n",
    "        words_pro_dict.append(words_pro)\n",
    "        \n",
    "    return label_prob, words_pro_dict, V"
   ]
  },
  {
   "cell_type": "code",
   "execution_count": 13,
   "metadata": {
    "collapsed": false
   },
   "outputs": [
    {
     "name": "stderr",
     "output_type": "stream",
     "text": [
      "Building prefix dict from the default dictionary ...\n",
      "Loading model from cache /tmp/jieba.cache\n",
      "Loading model cost 1.121 seconds.\n",
      "Prefix dict has been built succesfully.\n"
     ]
    }
   ],
   "source": [
    "label_prob, words_pro_dict, V = Train_NB(article_data, target)"
   ]
  },
  {
   "cell_type": "code",
   "execution_count": 14,
   "metadata": {
    "collapsed": false
   },
   "outputs": [],
   "source": [
    "# 预测一次文件的\n",
    "def Predict_NB(test_doc, label_prob, words_pro_dict, V):\n",
    "    # 先进行预处理工作\n",
    "    words = get_rid_of_words(test_doc)\n",
    "    # 初始化概率\n",
    "    prob = label_prob.copy()\n",
    "    for label in range(0, 3):\n",
    "        for word in words:\n",
    "            if word in V:\n",
    "                prob[label] += words_pro_dict[label][word]\n",
    "            else:\n",
    "                pass\n",
    "    return prob.argmax(), prob"
   ]
  },
  {
   "cell_type": "code",
   "execution_count": 15,
   "metadata": {
    "collapsed": false
   },
   "outputs": [],
   "source": [
    "def get_accuracy(test_docs, y, label_prob, words_pro_dict, V):\n",
    "    y_hat = np.zeros((len(y),))\n",
    "    y_hat_prob = np.zeros((len(y), 3))\n",
    "    for i in range(len(y)):\n",
    "        # 概率是用来计算AUC\n",
    "        y_hat[i], y_hat_prob[i] = Predict_NB(test_docs[i], label_prob, words_pro_dict, V)\n",
    "    \n",
    "    y = np.array(y[:])\n",
    "    acc = (y_hat == y).sum() / len(y)\n",
    "    \n",
    "    return acc, y_hat, y_hat_prob"
   ]
  },
  {
   "cell_type": "code",
   "execution_count": 16,
   "metadata": {
    "collapsed": false,
    "scrolled": true
   },
   "outputs": [],
   "source": [
    "acc, y_hat, y_hat_prob = get_accuracy(content_data, target.target.values, label_prob, words_pro_dict, V)"
   ]
  },
  {
   "cell_type": "code",
   "execution_count": 17,
   "metadata": {
    "collapsed": false
   },
   "outputs": [],
   "source": [
    "# 画出三个类的ROC曲线\n",
    "y_hat_normal_pro = -y_hat_prob / -(y_hat_prob.sum(axis=1).reshape(len(y_hat_prob), 1))\n",
    "one_hot = preprocessing.OneHotEncoder()\n",
    "y_one_hot = one_hot.fit_transform(np.array(target.target.values).reshape(-1, 1)).toarray()\n",
    "y_hat_one_hot = one_hot.transform(np.array(y_hat).reshape(-1, 1)).toarray()\n",
    "fpr, tpr, thresholds = metrics.roc_curve(y_one_hot.ravel(), y_hat_normal_pro.ravel())"
   ]
  },
  {
   "cell_type": "code",
   "execution_count": 18,
   "metadata": {
    "collapsed": false
   },
   "outputs": [],
   "source": [
    "# 画出消极或者不消极的ROC曲线\n",
    "binary_y = np.ones((len(target.target.values), 2))\n",
    "binary_y[:, 0] = y_one_hot[:, 0]\n",
    "binary_y_hat = np.ones((len(target.target.values), 2))\n",
    "binary_y_hat[:, 0] = y_hat_one_hot[:, 0]\n",
    "fpr, tpr, thresholds = metrics.roc_curve(binary_y.ravel(), binary_y_hat.ravel())"
   ]
  },
  {
   "cell_type": "code",
   "execution_count": 19,
   "metadata": {
    "collapsed": false
   },
   "outputs": [],
   "source": [
    "# metrics.roc_auc_score(y_one_hot, y_hat_normal_pro, average='micro')"
   ]
  },
  {
   "cell_type": "code",
   "execution_count": 21,
   "metadata": {
    "collapsed": false
   },
   "outputs": [],
   "source": [
    "auc = metrics.auc(fpr, tpr)"
   ]
  },
  {
   "cell_type": "markdown",
   "metadata": {},
   "source": [
    "**TPR指正类预测对了多少，FPR指负类预测错了多少**  \n",
    "第一个点，(0,1)，即FPR=0, TPR=1，这意味着FN（false negative）=0，并且FP（false positive）=0。Wow，这是一个完美的分类器，它将所有的样本都正确分类。第二个点，(1,0)，即FPR=1，TPR=0，类似地分析可以发现这是一个最糟糕的分类器，因为它成功避开了所有的正确答案。第三个点，(0,0)，即FPR=TPR=0，即FP（false positive）=TP（true positive）=0，可以发现该分类器预测所有的样本都为负样本（negative）。类似的，第四个点（1,1），分类器实际上预测所有的样本都为正样本。经过以上的分析，我们可以断言，ROC曲线越接近左上角，该分类器的性能越好  \n",
    "(0, 0)和(1, 1)是当我们将threshold设置为1和0时得到的值"
   ]
  },
  {
   "cell_type": "code",
   "execution_count": 22,
   "metadata": {
    "collapsed": false
   },
   "outputs": [
    {
     "data": {
      "text/plain": [
       "<matplotlib.figure.Figure at 0x7f24acea8908>"
      ]
     },
     "metadata": {},
     "output_type": "display_data"
    },
    {
     "data": {
      "image/png": "[encoded data removed]",
      "text/plain": [
       "<matplotlib.figure.Figure at 0x7f24a7a4bc18>"
      ]
     },
     "metadata": {},
     "output_type": "display_data"
    }
   ],
   "source": [
    "import  matplotlib.pyplot as plt\n",
    "\n",
    "plt.figure(figsize=(10, 6))\n",
    "plt.plot(fpr, tpr, c = 'r', lw = 2, alpha = 0.7, label = u'Naive Bayes(acc=%.2f) AUC=%.3f' % (acc, auc))\n",
    "plt.plot((0, 1), (0, 1), c = '#808080', lw = 1, ls='--')\n",
    "plt.xlim((-0.1, 1.1))\n",
    "plt.ylim((-0.1, 1.1))\n",
    "\n",
    "plt.legend(loc='lower right')\n",
    "plt.xticks(np.arange(-0.1, 1.1, 0.1))\n",
    "plt.yticks(np.arange(-0.1, 1.1, 0.1))\n",
    "\n",
    "plt.grid(b=True, ls=':')\n",
    "\n",
    "plt.title('ROC', fontsize=15)\n",
    "plt.xlabel('False Positive Rate', fontsize=13)\n",
    "plt.ylabel('True Positive Rate', fontsize=13)\n",
    "plt.show()"
   ]
  },
  {
   "cell_type": "markdown",
   "metadata": {},
   "source": [
    "# 为什么使用ROC曲线\n",
    "既然已经这么多评价标准，为什么还要使用ROC和AUC呢？因为ROC曲线有个很好的特性：**一方面即便测试集类别不平衡，也能很好的反应模型的性能**，另一方面当测试集中的正负样本的分布变化的时候，ROC曲线能够保持不变。在实际的数据集中经常会出现类不平衡（class imbalance）现象，即负样本比正样本多很多（或者相反），而且测试数据中的正负样本的分布也可能随着时间变化。  "
   ]
  },
  {
   "cell_type": "code",
   "execution_count": 22,
   "metadata": {
    "collapsed": false
   },
   "outputs": [
    {
     "data": {
      "text/plain": [
       "array([[22,  0,  0],\n",
       "       [24,  7,  6],\n",
       "       [ 0,  0, 31]])"
      ]
     },
     "execution_count": 22,
     "metadata": {},
     "output_type": "execute_result"
    }
   ],
   "source": [
    "# 混淆矩阵\n",
    "metrics.confusion_matrix(target.target.values, y_hat)"
   ]
  },
  {
   "cell_type": "code",
   "execution_count": 23,
   "metadata": {
    "collapsed": false
   },
   "outputs": [
    {
     "name": "stdout",
     "output_type": "stream",
     "text": [
      "              precision    recall  f1-score   support\n",
      "\n",
      "           0       0.48      1.00      0.65        22\n",
      "           1       1.00      0.19      0.32        37\n",
      "           2       0.84      1.00      0.91        31\n",
      "\n",
      "   micro avg       0.67      0.67      0.67        90\n",
      "   macro avg       0.77      0.73      0.63        90\n",
      "weighted avg       0.82      0.67      0.60        90\n",
      "\n"
     ]
    }
   ],
   "source": [
    "print(metrics.classification_report(target.target.values, y_hat))"
   ]
  },
  {
   "cell_type": "code",
   "execution_count": 24,
   "metadata": {
    "collapsed": true
   },
   "outputs": [],
   "source": [
    "import itertools\n",
    "def outputConfusionMatrix(labels, pred):\n",
    "    \"\"\" Generate a confusion matrix \"\"\"\n",
    "    cm = metrics.confusion_matrix(labels, pred, labels=range(3))\n",
    "    plt.figure()\n",
    "    plt.imshow(cm, interpolation='nearest', cmap=plt.cm.Reds)\n",
    "    plt.colorbar()\n",
    "    classes = [\"neg\", \"neut\", \"pos\"]\n",
    "    tick_marks = np.arange(len(classes))\n",
    "    plt.xticks(tick_marks, classes)\n",
    "    plt.yticks(tick_marks, classes)\n",
    "    thresh = cm.max() / 2.\n",
    "    # 将数字显示到热度图上，x是列，y是行\n",
    "    for i, j in itertools.product(range(cm.shape[0]), range(cm.shape[1])):\n",
    "        plt.text(j, i, cm[i, j],\n",
    "                 horizontalalignment=\"center\",\n",
    "                 color=\"white\" if cm[i, j] > thresh else \"black\")\n",
    "    plt.tight_layout()\n",
    "    plt.ylabel('True label')\n",
    "    plt.xlabel('Predicted label')\n",
    "    plt.show()"
   ]
  },
  {
   "cell_type": "code",
   "execution_count": 25,
   "metadata": {
    "collapsed": false
   },
   "outputs": [
    {
     "data": {
      "image/png": "[encoded data removed]",
      "text/plain": [
       "<matplotlib.figure.Figure at 0x7fda97c46358>"
      ]
     },
     "metadata": {},
     "output_type": "display_data"
    }
   ],
   "source": [
    "outputConfusionMatrix(target.target.values, y_hat)"
   ]
  },
  {
   "cell_type": "code",
   "execution_count": 26,
   "metadata": {
    "collapsed": true
   },
   "outputs": [],
   "source": [
    "import seaborn as sns"
   ]
  },
  {
   "cell_type": "code",
   "execution_count": 27,
   "metadata": {
    "collapsed": false
   },
   "outputs": [
    {
     "data": {
      "image/png": "[encoded data removed]",
      "text/plain": [
       "<matplotlib.figure.Figure at 0x7fda9755c550>"
      ]
     },
     "metadata": {},
     "output_type": "display_data"
    }
   ],
   "source": [
    "sns.heatmap(metrics.confusion_matrix(target.target.values, y_hat), xticklabels=['negtive', 'neut', 'positive'],\n",
    "            yticklabels=['negtive', 'neut', 'positive'],\n",
    "            cmap=plt.cm.Reds, cbar=True, annot=True, fmt=\"d\", square=True)\n",
    "plt.tight_layout()\n",
    "plt.show()"
   ]
  }
 ],
 "metadata": {
  "anaconda-cloud": {},
  "kernelspec": {
   "display_name": "Python [conda env:anaconda3]",
   "language": "python",
   "name": "conda-env-anaconda3-py"
  },
  "language_info": {
   "codemirror_mode": {
    "name": "ipython",
    "version": 3
   },
   "file_extension": ".py",
   "mimetype": "text/x-python",
   "name": "python",
   "nbconvert_exporter": "python",
   "pygments_lexer": "ipython3",
   "version": "3.5.6"
  }
 },
 "nbformat": 4,
 "nbformat_minor": 1
}
